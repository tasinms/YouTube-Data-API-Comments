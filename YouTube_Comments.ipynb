{
 "cells": [
  {
   "cell_type": "code",
   "execution_count": 39,
   "metadata": {},
   "outputs": [
    {
     "data": {
      "text/html": [
       "<div>\n",
       "<style scoped>\n",
       "    .dataframe tbody tr th:only-of-type {\n",
       "        vertical-align: middle;\n",
       "    }\n",
       "\n",
       "    .dataframe tbody tr th {\n",
       "        vertical-align: top;\n",
       "    }\n",
       "\n",
       "    .dataframe thead th {\n",
       "        text-align: right;\n",
       "    }\n",
       "</style>\n",
       "<table border=\"1\" class=\"dataframe\">\n",
       "  <thead>\n",
       "    <tr style=\"text-align: right;\">\n",
       "      <th></th>\n",
       "      <th>Title</th>\n",
       "      <th>Directed by</th>\n",
       "      <th>Produced by</th>\n",
       "      <th>Cinematography</th>\n",
       "      <th>Country</th>\n",
       "      <th>Running Time (int)</th>\n",
       "      <th>Release Date (datetime)</th>\n",
       "      <th>Distributed by</th>\n",
       "      <th>Language</th>\n",
       "      <th>Written by</th>\n",
       "      <th>Starring</th>\n",
       "      <th>Edited by</th>\n",
       "      <th>Music by</th>\n",
       "      <th>Production companies</th>\n",
       "      <th>Based on</th>\n",
       "      <th>Story by</th>\n",
       "      <th>Budget (float)</th>\n",
       "      <th>Box Office (float)</th>\n",
       "      <th>Box Office Status</th>\n",
       "    </tr>\n",
       "  </thead>\n",
       "  <tbody>\n",
       "    <tr>\n",
       "      <th>0</th>\n",
       "      <td>Garbage Dreams</td>\n",
       "      <td>Mai Iskander</td>\n",
       "      <td>Mai Iskander</td>\n",
       "      <td>Mai Iskander</td>\n",
       "      <td>United States</td>\n",
       "      <td>79.0</td>\n",
       "      <td>2009-04-03</td>\n",
       "      <td>NaN</td>\n",
       "      <td>NaN</td>\n",
       "      <td>NaN</td>\n",
       "      <td>NaN</td>\n",
       "      <td>NaN</td>\n",
       "      <td>NaN</td>\n",
       "      <td>NaN</td>\n",
       "      <td>NaN</td>\n",
       "      <td>NaN</td>\n",
       "      <td>NaN</td>\n",
       "      <td>NaN</td>\n",
       "      <td>NaN</td>\n",
       "    </tr>\n",
       "    <tr>\n",
       "      <th>1</th>\n",
       "      <td>Sweetgrass</td>\n",
       "      <td>Lucien Castaing-Taylor</td>\n",
       "      <td>Ilisa Barbash</td>\n",
       "      <td>Lucien Castaing- Taylor</td>\n",
       "      <td>United States</td>\n",
       "      <td>101.0</td>\n",
       "      <td>2009-02-04</td>\n",
       "      <td>Cinema Guild</td>\n",
       "      <td>English</td>\n",
       "      <td>NaN</td>\n",
       "      <td>NaN</td>\n",
       "      <td>NaN</td>\n",
       "      <td>NaN</td>\n",
       "      <td>NaN</td>\n",
       "      <td>NaN</td>\n",
       "      <td>NaN</td>\n",
       "      <td>NaN</td>\n",
       "      <td>NaN</td>\n",
       "      <td>NaN</td>\n",
       "    </tr>\n",
       "    <tr>\n",
       "      <th>2</th>\n",
       "      <td>Daybreakers</td>\n",
       "      <td>The Spierig Brothers</td>\n",
       "      <td>['Chris Brown', 'Sean Furst', 'Bryan Furst']</td>\n",
       "      <td>Ben Nott</td>\n",
       "      <td>NaN</td>\n",
       "      <td>98.0</td>\n",
       "      <td>2009-09-11</td>\n",
       "      <td>['Lionsgate (United States)', 'Hoyts Distribut...</td>\n",
       "      <td>English</td>\n",
       "      <td>The Spierig Brothers</td>\n",
       "      <td>['Ethan Hawke', 'Willem Dafoe', 'Claudia Karva...</td>\n",
       "      <td>Matt Villa</td>\n",
       "      <td>Christopher Gordon</td>\n",
       "      <td>['Lionsgate', 'Screen Australia', 'Pictures in...</td>\n",
       "      <td>NaN</td>\n",
       "      <td>NaN</td>\n",
       "      <td>20000000.0</td>\n",
       "      <td>51400000.0</td>\n",
       "      <td>Success</td>\n",
       "    </tr>\n",
       "    <tr>\n",
       "      <th>3</th>\n",
       "      <td>Leap Year</td>\n",
       "      <td>Anand Tucker</td>\n",
       "      <td>['Gary Barber', 'Chris Bender', 'Roger Birnbau...</td>\n",
       "      <td>Newton Thomas Sigel</td>\n",
       "      <td>NaN</td>\n",
       "      <td>100.0</td>\n",
       "      <td>2010-01-06</td>\n",
       "      <td>['Universal Pictures (United States)', 'Optimu...</td>\n",
       "      <td>English</td>\n",
       "      <td>['Harry Elfont', 'Deborah Kaplan']</td>\n",
       "      <td>['Amy Adams', 'Matthew Goode', 'Adam Scott', '...</td>\n",
       "      <td>Nick Moore</td>\n",
       "      <td>Randy Edelman</td>\n",
       "      <td>['Spyglass Entertainment', 'BenderSpink']</td>\n",
       "      <td>NaN</td>\n",
       "      <td>NaN</td>\n",
       "      <td>19000000.0</td>\n",
       "      <td>32700000.0</td>\n",
       "      <td>Failure</td>\n",
       "    </tr>\n",
       "    <tr>\n",
       "      <th>4</th>\n",
       "      <td>Youth in Revolt</td>\n",
       "      <td>Miguel Arteta</td>\n",
       "      <td>David Permut</td>\n",
       "      <td>Chuy Chávez</td>\n",
       "      <td>United States</td>\n",
       "      <td>89.0</td>\n",
       "      <td>2009-10-19</td>\n",
       "      <td>Dimension Films</td>\n",
       "      <td>English</td>\n",
       "      <td>Gustin Nash</td>\n",
       "      <td>['Michael Cera', 'Portia Doubleday', 'Jean Sma...</td>\n",
       "      <td>['Pamela Martin', 'Andy Keir']</td>\n",
       "      <td>John Swihart</td>\n",
       "      <td>['Permut', 'Shangri-La Entertainment']</td>\n",
       "      <td>['Youth in Revolt', 'by ', 'C.D. Payne']</td>\n",
       "      <td>NaN</td>\n",
       "      <td>18000000.0</td>\n",
       "      <td>19700000.0</td>\n",
       "      <td>Failure</td>\n",
       "    </tr>\n",
       "  </tbody>\n",
       "</table>\n",
       "</div>"
      ],
      "text/plain": [
       "             Title             Directed by  \\\n",
       "0   Garbage Dreams            Mai Iskander   \n",
       "1       Sweetgrass  Lucien Castaing-Taylor   \n",
       "2      Daybreakers    The Spierig Brothers   \n",
       "3        Leap Year            Anand Tucker   \n",
       "4  Youth in Revolt           Miguel Arteta   \n",
       "\n",
       "                                         Produced by           Cinematography  \\\n",
       "0                                       Mai Iskander             Mai Iskander   \n",
       "1                                      Ilisa Barbash  Lucien Castaing- Taylor   \n",
       "2       ['Chris Brown', 'Sean Furst', 'Bryan Furst']                 Ben Nott   \n",
       "3  ['Gary Barber', 'Chris Bender', 'Roger Birnbau...      Newton Thomas Sigel   \n",
       "4                                       David Permut              Chuy Chávez   \n",
       "\n",
       "         Country  Running Time (int) Release Date (datetime)  \\\n",
       "0  United States                79.0              2009-04-03   \n",
       "1  United States               101.0              2009-02-04   \n",
       "2            NaN                98.0              2009-09-11   \n",
       "3            NaN               100.0              2010-01-06   \n",
       "4  United States                89.0              2009-10-19   \n",
       "\n",
       "                                      Distributed by Language  \\\n",
       "0                                                NaN      NaN   \n",
       "1                                       Cinema Guild  English   \n",
       "2  ['Lionsgate (United States)', 'Hoyts Distribut...  English   \n",
       "3  ['Universal Pictures (United States)', 'Optimu...  English   \n",
       "4                                    Dimension Films  English   \n",
       "\n",
       "                           Written by  \\\n",
       "0                                 NaN   \n",
       "1                                 NaN   \n",
       "2                The Spierig Brothers   \n",
       "3  ['Harry Elfont', 'Deborah Kaplan']   \n",
       "4                         Gustin Nash   \n",
       "\n",
       "                                            Starring  \\\n",
       "0                                                NaN   \n",
       "1                                                NaN   \n",
       "2  ['Ethan Hawke', 'Willem Dafoe', 'Claudia Karva...   \n",
       "3  ['Amy Adams', 'Matthew Goode', 'Adam Scott', '...   \n",
       "4  ['Michael Cera', 'Portia Doubleday', 'Jean Sma...   \n",
       "\n",
       "                        Edited by            Music by  \\\n",
       "0                             NaN                 NaN   \n",
       "1                             NaN                 NaN   \n",
       "2                      Matt Villa  Christopher Gordon   \n",
       "3                      Nick Moore       Randy Edelman   \n",
       "4  ['Pamela Martin', 'Andy Keir']        John Swihart   \n",
       "\n",
       "                                Production companies  \\\n",
       "0                                                NaN   \n",
       "1                                                NaN   \n",
       "2  ['Lionsgate', 'Screen Australia', 'Pictures in...   \n",
       "3          ['Spyglass Entertainment', 'BenderSpink']   \n",
       "4             ['Permut', 'Shangri-La Entertainment']   \n",
       "\n",
       "                                   Based on Story by  Budget (float)  \\\n",
       "0                                       NaN      NaN             NaN   \n",
       "1                                       NaN      NaN             NaN   \n",
       "2                                       NaN      NaN      20000000.0   \n",
       "3                                       NaN      NaN      19000000.0   \n",
       "4  ['Youth in Revolt', 'by ', 'C.D. Payne']      NaN      18000000.0   \n",
       "\n",
       "   Box Office (float) Box Office Status  \n",
       "0                 NaN               NaN  \n",
       "1                 NaN               NaN  \n",
       "2          51400000.0           Success  \n",
       "3          32700000.0           Failure  \n",
       "4          19700000.0           Failure  "
      ]
     },
     "execution_count": 39,
     "metadata": {},
     "output_type": "execute_result"
    }
   ],
   "source": [
    "import pandas as pd\n",
    "\n",
    "df = pd.read_csv('WikipediaMovieDatasetFinalNew.csv')\n",
    "\n",
    "df.head()"
   ]
  },
  {
   "cell_type": "code",
   "execution_count": 40,
   "metadata": {},
   "outputs": [
    {
     "name": "stdout",
     "output_type": "stream",
     "text": [
      "<class 'pandas.core.frame.DataFrame'>\n",
      "RangeIndex: 3286 entries, 0 to 3285\n",
      "Data columns (total 19 columns):\n",
      " #   Column                   Non-Null Count  Dtype  \n",
      "---  ------                   --------------  -----  \n",
      " 0   Title                    3286 non-null   object \n",
      " 1   Directed by              3286 non-null   object \n",
      " 2   Produced by              3255 non-null   object \n",
      " 3   Cinematography           3121 non-null   object \n",
      " 4   Country                  2595 non-null   object \n",
      " 5   Running Time (int)       3238 non-null   float64\n",
      " 6   Release Date (datetime)  3256 non-null   object \n",
      " 7   Distributed by           3232 non-null   object \n",
      " 8   Language                 3046 non-null   object \n",
      " 9   Written by               3207 non-null   object \n",
      " 10  Starring                 3217 non-null   object \n",
      " 11  Edited by                3224 non-null   object \n",
      " 12  Music by                 3097 non-null   object \n",
      " 13  Production companies     3157 non-null   object \n",
      " 14  Based on                 1314 non-null   object \n",
      " 15  Story by                 600 non-null    object \n",
      " 16  Budget (float)           2144 non-null   float64\n",
      " 17  Box Office (float)       2566 non-null   float64\n",
      " 18  Box Office Status        2011 non-null   object \n",
      "dtypes: float64(3), object(16)\n",
      "memory usage: 487.9+ KB\n"
     ]
    }
   ],
   "source": [
    "df.info()"
   ]
  },
  {
   "cell_type": "code",
   "execution_count": 41,
   "metadata": {},
   "outputs": [
    {
     "data": {
      "text/plain": [
       "Title                         0\n",
       "Directed by                   0\n",
       "Produced by                  31\n",
       "Cinematography              165\n",
       "Country                     691\n",
       "Running Time (int)           48\n",
       "Release Date (datetime)      30\n",
       "Distributed by               54\n",
       "Language                    240\n",
       "Written by                   79\n",
       "Starring                     69\n",
       "Edited by                    62\n",
       "Music by                    189\n",
       "Production companies        129\n",
       "Based on                   1972\n",
       "Story by                   2686\n",
       "Budget (float)             1142\n",
       "Box Office (float)          720\n",
       "Box Office Status          1275\n",
       "dtype: int64"
      ]
     },
     "execution_count": 41,
     "metadata": {},
     "output_type": "execute_result"
    }
   ],
   "source": [
    "df.isnull().sum()"
   ]
  },
  {
   "cell_type": "code",
   "execution_count": 42,
   "metadata": {},
   "outputs": [],
   "source": [
    "df = df.dropna(subset=['Box Office Status'])"
   ]
  },
  {
   "cell_type": "code",
   "execution_count": 43,
   "metadata": {},
   "outputs": [
    {
     "data": {
      "text/plain": [
       "Title                         0\n",
       "Directed by                   0\n",
       "Produced by                   1\n",
       "Cinematography               85\n",
       "Country                     451\n",
       "Running Time (int)            4\n",
       "Release Date (datetime)       6\n",
       "Distributed by                5\n",
       "Language                    146\n",
       "Written by                   11\n",
       "Starring                     11\n",
       "Edited by                     9\n",
       "Music by                     74\n",
       "Production companies         35\n",
       "Based on                   1044\n",
       "Story by                   1555\n",
       "Budget (float)                0\n",
       "Box Office (float)            0\n",
       "Box Office Status             0\n",
       "dtype: int64"
      ]
     },
     "execution_count": 43,
     "metadata": {},
     "output_type": "execute_result"
    }
   ],
   "source": [
    "df.isnull().sum()"
   ]
  },
  {
   "cell_type": "code",
   "execution_count": 44,
   "metadata": {},
   "outputs": [
    {
     "data": {
      "text/plain": [
       "2011"
      ]
     },
     "execution_count": 44,
     "metadata": {},
     "output_type": "execute_result"
    }
   ],
   "source": [
    "df.shape[0]"
   ]
  },
  {
   "cell_type": "code",
   "execution_count": 45,
   "metadata": {},
   "outputs": [
    {
     "data": {
      "text/html": [
       "<div>\n",
       "<style scoped>\n",
       "    .dataframe tbody tr th:only-of-type {\n",
       "        vertical-align: middle;\n",
       "    }\n",
       "\n",
       "    .dataframe tbody tr th {\n",
       "        vertical-align: top;\n",
       "    }\n",
       "\n",
       "    .dataframe thead th {\n",
       "        text-align: right;\n",
       "    }\n",
       "</style>\n",
       "<table border=\"1\" class=\"dataframe\">\n",
       "  <thead>\n",
       "    <tr style=\"text-align: right;\">\n",
       "      <th></th>\n",
       "      <th>Title</th>\n",
       "      <th>Release Date (datetime)</th>\n",
       "    </tr>\n",
       "  </thead>\n",
       "  <tbody>\n",
       "    <tr>\n",
       "      <th>2</th>\n",
       "      <td>Daybreakers</td>\n",
       "      <td>2009-09-11</td>\n",
       "    </tr>\n",
       "    <tr>\n",
       "      <th>3</th>\n",
       "      <td>Leap Year</td>\n",
       "      <td>2010-01-06</td>\n",
       "    </tr>\n",
       "    <tr>\n",
       "      <th>4</th>\n",
       "      <td>Youth in Revolt</td>\n",
       "      <td>2009-10-19</td>\n",
       "    </tr>\n",
       "    <tr>\n",
       "      <th>8</th>\n",
       "      <td>Wonderful World</td>\n",
       "      <td>2009-04-27</td>\n",
       "    </tr>\n",
       "    <tr>\n",
       "      <th>9</th>\n",
       "      <td>The Book of Eli</td>\n",
       "      <td>2010-01-15</td>\n",
       "    </tr>\n",
       "  </tbody>\n",
       "</table>\n",
       "</div>"
      ],
      "text/plain": [
       "             Title Release Date (datetime)\n",
       "2      Daybreakers              2009-09-11\n",
       "3        Leap Year              2010-01-06\n",
       "4  Youth in Revolt              2009-10-19\n",
       "8  Wonderful World              2009-04-27\n",
       "9  The Book of Eli              2010-01-15"
      ]
     },
     "execution_count": 45,
     "metadata": {},
     "output_type": "execute_result"
    }
   ],
   "source": [
    "df = df[['Title', 'Release Date (datetime)']]\n",
    "df.head()"
   ]
  },
  {
   "cell_type": "code",
   "execution_count": 46,
   "metadata": {},
   "outputs": [
    {
     "data": {
      "text/plain": [
       "Title                      0\n",
       "Release Date (datetime)    6\n",
       "dtype: int64"
      ]
     },
     "execution_count": 46,
     "metadata": {},
     "output_type": "execute_result"
    }
   ],
   "source": [
    "df.isnull().sum()"
   ]
  },
  {
   "cell_type": "code",
   "execution_count": 47,
   "metadata": {},
   "outputs": [
    {
     "data": {
      "text/plain": [
       "Title                      0\n",
       "Release Date (datetime)    0\n",
       "dtype: int64"
      ]
     },
     "execution_count": 47,
     "metadata": {},
     "output_type": "execute_result"
    }
   ],
   "source": [
    "df = df.dropna(subset=['Release Date (datetime)'])\n",
    "df.isnull().sum()"
   ]
  },
  {
   "cell_type": "code",
   "execution_count": 48,
   "metadata": {},
   "outputs": [
    {
     "data": {
      "text/plain": [
       "2005"
      ]
     },
     "execution_count": 48,
     "metadata": {},
     "output_type": "execute_result"
    }
   ],
   "source": [
    "df.shape[0]"
   ]
  },
  {
   "cell_type": "code",
   "execution_count": 49,
   "metadata": {},
   "outputs": [],
   "source": [
    "dfNew = df\n",
    "dfNew['Release Year'] = pd.to_datetime(dfNew['Release Date (datetime)']).dt.year\n"
   ]
  },
  {
   "cell_type": "code",
   "execution_count": 50,
   "metadata": {},
   "outputs": [
    {
     "name": "stdout",
     "output_type": "stream",
     "text": [
      "[['Daybreakers', 2009], ['Leap Year', 2010], ['Youth in Revolt', 2009], ['Wonderful World', 2009], ['The Book of Eli', 2010], ['The Spy Next Door', 2009], ['Fish Tank', 2009], ['Extraordinary Measures', 2010], ['Legion', 2010], ['Tooth Fairy', 2010], ['The Girl on the Train', 2009], ['To Save a Life', 2009], ['Edge of Darkness', 2010], ['When in Rome', 2010], [\"Preacher's Kid\", 2010], ['Saint John of Las Vegas', 2009], ['Ajami', 2009], ['Dear John', 2010], ['From Paris with Love', 2010], ['District 13: Ultimatum', 2009], ['Shinjuku Incident', 2009], ['Percy Jackson & the Olympians: The Lightning Thief', 2010], [\"Valentine's Day\", 2010], ['The Wolfman', 2010], ['Lourdes', 2009], ['The Ghost Writer', 2010], ['Shutter Island', 2010], ['The Good Guy', 2009], ['Cop Out', 2010], ['The Crazies', 2010], ['Formosa Betrayed', 2009], ['A Prophet', 2009], ['The Yellow Handkerchief', 2008], ['Alice in Wonderland', 2010], [\"Brooklyn's Finest\", 2009], ['Green Zone', 2010], ['Remember Me', 2010], [\"She's Out of My League\", 2010], ['Monsters', 2010], ['The Bounty Hunter', 2010], ['Diary of a Wimpy Kid', 2010], ['Repo Men', 2010], ['City Island', 2009], ['Greenberg', 2010], ['The Runaways', 2010], ['Hot Tub Time Machine', 2010], ['How to Train Your Dragon', 2010], ['Chloe', 2009], ['The Last Song', 2010], ['Clash of the Titans', 2010], ['Why Did I Get Married Too?', 2010], ['The Greatest', 2009], ['Date Night', 2010], ['Letters to God', 2010], [\"The Black Waters of Echo's Pond\", 2009], ['Death at a Funeral', 2010], ['Kick-Ass', 2010], ['The City of Your Final Destination', 2009], ['The Joneses', 2009], ['Oceans', 2009], ['The Back-up Plan', 2010], ['The Losers', 2010], ['Boogie Woogie', 2009], ['Furry Vengeance', 2010], ['A Nightmare on Elm Street', 2010], ['Freakonomics', 2010], ['Harry Brown', 2009], ['Please Give', 2010], ['Iron Man 2', 2010], ['Mother and Child', 2009], ['Just Wright', 2010], ['Letters to Juliet', 2010], ['Robin Hood', 2010], ['Here and There', 2009], ['Princess Kaiulani', 2009], ['Touching Home', 2008], ['MacGruber', 2010], ['Shrek Forever After', 2010], ['John Rabe', 2009], ['Kites', 2010], ['Sex and the City 2', 2010], ['Prince of Persia: The Sands of Time', 2010], ['Father of My Children', 2009], ['Micmacs', 2009], ['Survival of the Dead', 2009], ['Get Him to the Greek', 2010], ['Killers', 2010], ['Marmaduke', 2010], ['Splice', 2009], ['Living in Emergency', 2008], ['Ondine', 2009], ['The A-Team', 2010], ['The Karate Kid', 2010], ['Coco Chanel & Igor Stravinsky', 2009], [\"Winter's Bone\", 2010], ['Jonah Hex', 2010], ['Toy Story 3', 2010], ['8: The Mormon Proposition', 2010], ['Cyrus', 2010], ['I Am Love', 2009], ['The Killer Inside Me', 2010], ['Knight and Day', 2010], ['Grown Ups', 2010], ['Wild Grass', 2009], ['The Twilight Saga: Eclipse', 2010], ['Love Ranch', 2010], ['The Last Airbender', 2010], ['Despicable Me', 2010], ['Predators', 2010], ['The Kids Are All Right', 2010], ['Rec 2', 2009], ['Valhalla Rising', 2009], [\"The Sorcerer's Apprentice\", 2010], ['Inception', 2010], ['Standing Ovation', 2010], ['Ramona and Beezus', 2010], ['Salt', 2010], ['Farewell', 2009], ['Life During Wartime', 2009], ['Cats & Dogs: The Revenge of Kitty Galore', 2010], ['Charlie St. Cloud', 2010], ['Dinner for Schmucks', 2010], ['The Extra Man', 2010], ['Get Low', 2009], ['Flipped', 2010], ['The Other Guys', 2010], ['Step Up 3D', 2010], ['Middle Men', 2009], ['Twelve', 2010], ['Eat Pray Love', 2010], ['The Expendables', 2010], ['Scott Pilgrim vs. the World', 2010], ['Animal Kingdom', 2010], ['Vampires Suck', 2010], ['Lottery Ticket', 2010], ['Nanny McPhee and the Big Bang', 2010], ['Piranha', 2010], ['The Switch', 2010], ['The Army of Crime', 2009], ['The Last Exorcism', 2010], ['Takers', 2010], ['Avatar', 2009], ['Centurion', 2010], ['Mesrine', 2008], ['The American', 2010], ['Going the Distance', 2010], ['Machete', 2010], ['Resident Evil: Afterlife', 2010], ['Never Let Me Go', 2010], ['Alpha and Omega', 2010], ['Devil', 2010], ['Easy A', 2010], ['The Town', 2010], ['Catfish', 2010], ['Leaves of Grass', 2009], ['You Will Meet a Tall Dark Stranger', 2010], [\"Legend of the Guardians: The Owls of Ga'Hoole\", 2010], ['Wall Street: Money Never Sleeps', 2010], ['You Again', 2010], ['Case 39', 2009], ['Let Me In', 2010], ['The Social Network', 2010], [\"It's Kind of a Funny Story\", 2010], ['Life as We Know It', 2010], ['My Soul to Take', 2010], ['Secretariat', 2010], ['I Spit on Your Grave', 2010], ['Inside Job', 2010], ['Stone', 2010], ['Wild Target', 2010], ['Jackass 3D', 2010], ['Red', 2010], ['Conviction', 2010], ['Hereafter', 2010], ['Paranormal Activity 2', 2010], ['Saw 3D', 2010], [\"The Girl Who Kicked the Hornets' Nest\", 2009], ['Crayon', 2010], ['Due Date', 2010], ['Fair Game', 2010], ['For Colored Girls', 2010], ['Megamind', 2010], ['Transformers', 2007], ['Transformers: Revenge of the Fallen', 2009], ['127 Hours', 2010], ['Guy and Madeline on a Park Bench', 2009], ['Five Minarets in New York', 2010], ['Morning Glory', 2010], ['Skyline', 2010], ['Unstoppable', 2010], ['Harry Potter', 2010], ['The Next Three Days', 2010], ['Burlesque', 2010], ['Faster', 2010], ['Love & Other Drugs', 2010], ['Tangled', 2010], ['The Nutcracker in 3D', 2010], [\"The King's Speech\", 2010], ['Black Swan', 2010], ['I Love You Phillip Morris', 2009], [\"The Warrior's Way\", 2010], ['The Chronicles of Narnia: The Voyage of the Dawn Treader', 2010], ['The Tourist', 2010], ['The Tempest', 2010], ['The Fighter', 2010], ['How Do You Know', 2010], ['Tron: Legacy', 2010], ['Yogi Bear', 2010], ['Casino Jack', 2010], ['Rabbit Hole', 2010], ['Little Fockers', 2010], ['True Grit', 2010], ['Somewhere', 2010], ['Country Strong', 2010], [\"Gulliver's Travels\", 2010], ['The Illusionist', 2010], ['Another Year', 2010], ['Biutiful', 2010], ['Blue Valentine', 2010], [\"Barney's Version\", 2010], ['The Green Hornet', 2011], ['No Strings Attached', 2011], ['The Mechanic', 2011], ['The Rite', 2011], ['The Roommate', 2011], ['Sanctum', 2011], ['Waiting for Forever', 2010], ['The Eagle', 2011], ['Gnomeo & Juliet', 2011], ['Just Go with It', 2011], ['Justin Bieber: Never Say Never', 2011], ['Mooz-lum', 2010], ['Big Mommas: Like Father, Like Son', 2011], ['I Am Number Four', 2011], ['Unknown', 2011], ['Drive Angry', 2011], ['Hall Pass', 2011], ['The Adjustment Bureau', 2011], ['Beastly', 2011], ['Rango', 2011], ['Take Me Home Tonight', 2011], ['Battle: Los Angeles', 2011], ['Mars Needs Moms', 2011], ['Red Riding Hood', 2011], ['Limitless', 2011], ['The Lincoln Lawyer', 2011], ['Paul', 2011], ['Win Win', 2011], ['Diary of a Wimpy Kid: Rodrick Rules', 2011], ['Sucker Punch', 2011], ['Insidious', 2010], ['Hop', 2011], ['Source Code', 2011], ['Super', 2010], ['Trust', 2010], ['Arthur', 2011], ['Hanna', 2011], [\"Henry's Crime\", 2010], ['Soul Surfer', 2011], ['Your Highness', 2011], ['Atlas Shrugged: Part I', 2011], ['The Conspirator', 2010], ['Rio', 2011], ['Scream 4', 2011], ['African Cats', 2011], [\"Madea's Big Happy Family\", 2011], ['POM Wonderful Presents: The Greatest Movie Ever Sold', 2011], ['Water for Elephants', 2011], ['Dylan Dog: Dead of Night', 2011], ['Fast Five', 2011], ['Hoodwinked Too! Hood vs. Evil', 2011], ['Prom', 2011], ['The Beaver', 2011], ['Hobo with a Shotgun', 2011], ['Jumping the Broom', 2011], ['Thor', 2011], ['Bridesmaids', 2011], ['Midnight in Paris', 2011], ['Pirates of the Caribbean: On Stranger Tides', 2011], ['Kung Fu Panda 2', 2011], ['The Hangover Part II', 2011], ['The Tree of Life', 2011], ['Beginners', 2010], ['Submarine', 2010], ['X-Men: First Class', 2011], ['The Lion of Judah', 2011], ['Judy Moody and the Not Bummer Summer', 2011], ['Road to Nowhere', 2010], ['Super 8', 2011], ['The Art of Getting By', 2011], ['Green Lantern', 2011], [\"Mr. Popper's Penguins\", 2011], ['A Better Life', 2011], ['Bad Teacher', 2011], ['Cars 2', 2011], ['Transformers: Dark of the Moon', 2011], ['Monte Carlo', 2011], ['Rapt', 2009], ['Horrible Bosses', 2011], ['Zookeeper', 2011], ['Harry Potter', 2011], ['Winnie the Pooh', 2011], ['Another Earth', 2011], ['Captain America:', 2011], ['Friends with Benefits', 2011], ['Cowboys & Aliens', 2011], ['Crazy, Stupid, Love.', 2011], [\"The Devil's Double\", 2011], ['The Guard', 2011], ['The Smurfs', 2011], ['The Change-Up', 2011], ['Rise of the Planet of the Apes', 2011], ['The Help', 2011], ['30 Minutes or Less', 2011], ['Final Destination 5', 2011], ['Glee: The 3D Concert Movie', 2011], ['Conan the Barbarian', 2011], ['Flypaper', 2011], ['Fright Night', 2011], ['One Day', 2011], ['Spy Kids: All the Time in the World', 2011], ['Colombiana', 2011], ['Higher Ground', 2011], ['Apollo 18', 2011], ['Seven Days in Utopia', 2011], ['Shark Night', 2011], ['Bucky Larson: Born to Be a Star', 2011], ['Contagion', 2011], ['Warrior', 2011], ['Drive', 2011], [\"I Don't Know How She Does It\", 2011], ['The Lion King', 1994], ['Restless', 2011], ['Straw Dogs', 2011], ['Abduction', 2011], ['Dolphin Tale', 2011], ['Killer Elite', 2011], ['Moneyball', 2011], ['50/50', 2011], ['Courageous', 2011], ['Dream House', 2011], ['Margaret', 2011], ['Take Shelter', 2011], [\"What's Your Number?\", 2011], ['The Ides of March', 2011], ['Real Steel', 2011], ['The Big Year', 2011], ['Footloose', 2011], ['The Skin I Live In', 2011], ['The Thing', 2011], ['Johnny English Reborn', 2011], ['Margin Call', 2011], ['Paranormal Activity 3', 2011], ['The Three Musketeers', 2011], ['Martha Marcy May Marlene', 2011], ['Anonymous', 2011], ['In Time', 2011], ['Like Crazy', 2011], ['October Baby', 2011], ['Puss in Boots', 2011], ['The Rum Diary', 2011], ['Tower Heist', 2011], ['A Very Harold & Kumar Christmas', 2011], ['Immortals', 2011], ['J. Edgar', 2011], ['Jack and Jill', 2011], ['Melancholia', 2011], ['The Descendants', 2011], ['Happy Feet Two', 2011], ['The Twilight Saga: Breaking Dawn – Part 1', 2011], ['A Dangerous Method', 2011], ['Arthur Christmas', 2011], ['Hugo', 2011], ['The Muppets', 2011], ['My Week with Marilyn', 2011], ['The Artist', 2011], ['Shame', 2011], ['Tinker Tailor Soldier Spy', 2011], ['Catch .44', 2011], [\"New Year's Eve\", 2011], ['The Sitter', 2011], ['We Need to Talk About Kevin', 2011], ['Young Adult', 2011], ['Alvin and the Chipmunks: Chipwrecked', 2011], ['Carnage', 2011], ['Mission: Impossible – Ghost Protocol', 2011], ['Sherlock Holmes: A Game of Shadows', 2011], ['The Adventures of Tintin', 2011], ['The Girl with the Dragon Tattoo', 2011], ['In the Land of Blood and Honey', 2011], ['We Bought a Zoo', 2011], ['The Darkest Hour', 2011], ['Extremely Loud & Incredibly Close', 2011], ['War Horse', 2011], ['Pariah', 2011], ['The Iron Lady', 2011], ['A Separation', 2011], ['The Devil Inside', 2012], ['Beneath The Darkness', 2011], ['Contraband', 2012], ['Joyful Noise', 2012], ['Beauty and the Beast', 1991], ['Haywire', 2011], ['Red Tails', 2012], ['Underworld: Awakening', 2012], ['Coriolanus', 2011], ['The Flowers of War', 2011], ['W.E.', 2011], ['The Grey', 2011], ['Man on a Ledge', 2012], ['One for the Money', 2012], ['Declaration of War', 2011], ['Big Miracle', 2012], ['Chronicle', 2012], ['The Woman in Black', 2012], ['Journey 2: The Mysterious Island', 2012], ['Safe House', 2012], ['The Vow', 2012], ['Star Wars: Episode I – The Phantom Menace', 1999], ['Ghost Rider: Spirit of Vengeance', 2011], ['This Means War', 2012], ['Act of Valor', 2012], ['Good Deeds', 2012], ['Wanderlust', 2012], ['The Lorax', 2012], ['Project X', 2012], [\"Tim and Eric's Billion Dollar Movie\", 2012], ['John Carter', 2012], ['Silent House', 2011], ['A Thousand Words', 2012], ['Friends with Kids', 2011], ['Salmon Fishing in the Yemen', 2011], ['21 Jump Street', 2012], ['Jeff, Who Lives at Home', 2011], ['The Hunger Games', 2012], ['The Raid', 2011], ['Mirror Mirror', 2012], ['Wrath of the Titans', 2012], ['Goon', 2011], ['Titanic', 1997], ['American Reunion', 2012], ['Damsels in Distress', 2011], ['Lockout', 2012], ['The Three Stooges', 2012], ['Chimpanzee', 2012], ['The Lucky One', 2012], ['Think Like a Man', 2012], ['Darling Companion', 2012], ['The 5-Year Engagement', 2012], ['The Pirates! In an Adventure with Scientists!', 2012], ['The Raven', 2012], ['Safe', 2012], ['Sound of My Voice', 2011], ['The Avengers', 2012], ['The Best Exotic Marigold Hotel', 2011], ['Dark Shadows', 2012], ['The Dictator', 2012], ['Battleship', 2012], [\"What to Expect When You're Expecting\", 2012], ['Beyond the Black Rainbow', 2010], ['Crooked Arrows', 2012], ['Lovely Molly', 2011], ['Polisse', 2011], ['Chernobyl Diaries', 2012], ['Men in Black 3', 2012], ['Moonrise Kingdom', 2012], ['Snow White and the Huntsman', 2012], ['Piranha 3DD', 2012], [\"Madagascar 3: Europe's Most Wanted\", 2012], ['Prometheus', 2012], ['Safety Not Guaranteed', 2012], ['Rock of Ages', 2012], [\"That's My Boy\", 2012], [\"Your Sister's Sister\", 2011], ['Abraham Lincoln: Vampire Hunter', 2012], ['Brave', 2012], ['Seeking a Friend for the End of the World', 2012], ['To Rome with Love', 2012], ['Beasts of the Southern Wild', 2012], [\"Madea's Witness Protection\", 2012], ['Magic Mike', 2012], ['People Like Us', 2012], ['Ted', 2012], ['A Burning Hot Summer', 2011], ['Last Ride', 2009], ['The Amazing Spider-Man', 2012], ['Katy Perry: Part of Me', 2012], ['Savages', 2012], ['Ice Age: Continental Drift', 2012], ['Farewell, My Queen', 2012], ['The Dark Knight Rises', 2012], ['Step Up Revolution', 2012], ['The Watch', 2012], ['Killer Joe', 2011], ['Diary of a Wimpy Kid: Dog Days', 2012], ['Total Recall', 2012], ['Celeste and Jesse Forever', 2012], ['Hope Springs', 2012], ['The Bourne Legacy', 2012], ['The Campaign', 2012], ['The Odd Life of Timothy Green', 2012], ['The Expendables 2', 2012], ['ParaNorman', 2012], ['Sparkle', 2012], ['Cosmopolis', 2012], ['Robot & Frank', 2012], ['Hit and Run', 2012], ['The Apparition', 2012], ['Premium Rush', 2012], ['Lawless', 2012], ['The Oogieloves in the Big Balloon Adventure', 2012], ['The Possession', 2012], ['For a Good Time, Call...', 2012], ['The Cold Light Of Day', 2012], ['The Words', 2012], ['Raiders of the Lost Ark', 1981], ['Anna Karenina', 2012], ['Raaz 3', 2012], ['Resident Evil: Retribution', 2012], ['Finding Nemo', 2003], ['Arbitrage', 2012], ['The Master', 2012], ['Stolen', 2012], ['Dredd', 2012], ['End of Watch', 2012], ['House at the End of the Street', 2012], ['Trouble with the Curve', 2012], ['The Perks of Being a Wallflower', 2012], ['Hotel Transylvania', 2012], ['Looper', 2012], [\"Won't Back Down\", 2012], ['Frankenweenie', 2012], ['Pitch Perfect', 2012], ['Taken 2', 2012], ['The Oranges', 2011], ['The Paperboy', 2012], ['Argo', 2012], ['Here Comes the Boom', 2012], ['Seven Psychopaths', 2012], ['Sinister', 2012], ['Smashed', 2012], ['Holy Motors', 2012], ['Alex Cross', 2012], ['Paranormal Activity 4', 2012], ['The Sessions', 2012], ['Chasing Mavericks', 2012], ['Cloud Atlas', 2012], ['Fun Size', 2012], ['Silent Hill: Revelation', 2012], ['Flight', 2012], ['The Man with the Iron Fists', 2012], ['Wreck-It Ralph', 2012], ['The Bay', 2012], ['This Must Be the Place', 2011], ['Skyfall', 2012], ['The Twilight Saga: Breaking Dawn – Part 2', 2012], ['Lincoln', 2012], ['Silver Linings Playbook', 2012], ['Life of Pi', 2012], ['Red Dawn', 2012], ['Rise of the Guardians', 2012], ['Hitchcock', 2012], ['The Collection', 2012], ['Killing Them Softly', 2012], ['Playing for Keeps', 2012], ['Deadfall', 2012], ['Lay the Favorite', 2012], ['The Hobbit: An Unexpected Journey', 2012], ['The Guilt Trip', 2012], ['Monsters, Inc.', 2001], ['Zero Dark Thirty', 2012], ['Cirque du Soleil: Worlds Away', 2012], ['Jack Reacher', 2012], ['This Is 40', 2012], ['The Impossible', 2012], ['Not Fade Away', 2012], ['Django Unchained', 2012], ['Les Misérables', 2012], ['Parental Guidance', 2012], ['Quartet', 2012], ['Promised Land', 2012], ['Texas Chainsaw 3D', 2013], ['Gangster Squad', 2013], ['A Haunted House', 2013], ['Struck by Lightning', 2012], ['Broken City', 2013], ['The Last Stand', 2013], ['Mama', 2013], ['Hansel & Gretel: Witch Hunters', 2013], ['John Dies at the End', 2012], ['Movie 43', 2013], ['Parker', 2013], ['Bullet to the Head', 2012], ['The Haunting in Connecticut 2: Ghosts of Georgia', 2013], ['Stand Up Guys', 2012], ['Warm Bodies', 2013], ['A Glimpse Inside the Mind of Charles Swan III', 2012], ['Identity Thief', 2013], ['Side Effects', 2013], ['Top Gun', 1986], ['Beautiful Creatures', 2013], ['A Good Day to Die Hard', 2013], ['Safe Haven', 2013], ['Escape from Planet Earth', 2013], ['Dark Skies', 2013], ['Snitch', 2013], ['21 & Over', 2013], ['Jack the Giant Slayer', 2013], ['The Last Exorcism Part II', 2013], ['Stoker', 2013], ['Dead Man Down', 2013], ['Oz the Great and Powerful', 2013], ['The Call', 2013], ['The Incredible Burt Wonderstone', 2013], ['Spring Breakers', 2012], ['Admission', 2013], ['The Croods', 2013], ['Olympus Has Fallen', 2013], ['Trance', 2013], ['G.I. Joe: Retaliation', 2013], ['The Host', 2013], ['The Place Beyond the Pines', 2012], ['Temptation: Confessions of a Marriage Counselor', 2013], ['Evil Dead', 2013], ['Jurassic Park', 1993], ['Upstream Color', 2013], ['42', 2013], ['Scary Movie 5', 2013], ['Java Heat', 2013], ['The Lords of Salem', 2012], ['Oblivion', 2013], ['The Big Wedding', 2013], ['Mud', 2012], ['Pain & Gain', 2013], ['Iron Man 3', 2013], ['The Iceman', 2012], ['What Maisie Knew', 2012], ['Aftershock', 2012], ['The Great Gatsby', 2013], ['No One Lives', 2012], ['Peeples', 2013], ['Star Trek Into Darkness', 2013], ['Frances Ha', 2012], ['The Reluctant Fundamentalist', 2012], ['The Hangover Part III', 2013], ['Before Midnight', 2013], ['Epic', 2013], ['Fast & Furious 6', 2013], ['After Earth', 2013], ['The East', 2013], ['The Kings of Summer', 2013], ['Now You See Me', 2013], ['Hello Herman', 2012], ['The Internship', 2013], ['The Purge', 2013], ['Violet & Daisy', 2011], ['This Is the End', 2013], ['The Bling Ring', 2013], ['Man of Steel', 2013], ['Monsters University', 2013], ['World War Z', 2013], ['Copperhead', 2013], ['The Heat', 2013], ['Hummingbird', 2013], ['White House Down', 2013], ['Despicable Me 2', 2013], ['Kevin Hart: Let Me Explain', 2013], ['The Lone Ranger', 2013], ['Bad Words', 2013], ['The Way, Way Back', 2013], ['Fruitvale Station', 2013], ['Grown Ups 2', 2013], ['Pacific Rim', 2013], ['Turbo', 2013], ['The Conjuring', 2013], ['R.I.P.D.', 2013], ['Red 2', 2013], ['Blue Jasmine', 2013], ['The To Do List', 2013], ['The Wolverine', 2013], ['The Smurfs 2', 2013], ['2 Guns', 2013], ['The Canyons', 2013], ['Europa Report', 2013], ['The Spectacular Now', 2013], ['Percy Jackson: Sea of Monsters', 2013], [\"We're the Millers\", 2013], ['Elysium', 2013], ['Planes', 2013], [\"Ain't Them Bodies Saints\", 2013], ['The Butler', 2013], ['Jobs', 2013], ['Kick-Ass 2', 2013], ['Paranoia', 2013], ['The Mortal Instruments: City of Bones', 2013], ['Drinking Buddies', 2013], ['Short Term 12', 2013], [\"You're Next\", 2011], ['Getaway', 2013], ['Hell Baby', 2013], ['Riddick', 2013], ['August: Osage County', 2013], ['The Family', 2013], ['Insidious: Chapter 2', 2013], ['Battle of the Year', 2013], ['Enough Said', 2013], ['Prisoners', 2013], ['Rush', 2013], ['The Wizard of Oz', 1939], ['Baggage Claim', 2013], ['Cloudy with a Chance of Meatballs 2', 2013], ['Don Jon', 2013], ['Metallica: Through the Never', 2013], ['Grace Unplugged', 2013], ['Gravity', 2013], ['Runner Runner', 2013], ['Captain Phillips', 2013], ['Machete Kills', 2013], ['12 Years a Slave', 2013], ['Escape Plan', 2013], ['Carrie', 2013], ['The Fifth Estate', 2013], [\"I'm in Love with a Church Girl\", 2013], ['The Counselor', 2013], ['Jackass Presents: Bad Grandpa', 2013], ['About Time', 2013], ['Dallas Buyers Club', 2013], [\"Ender's Game\", 2013], ['Free Birds', 2013], ['Last Vegas', 2013], ['The Book Thief', 2013], ['Thor: The Dark World', 2013], ['The Best Man Holiday', 2013], ['Delivery Man', 2013], ['The Hunger Games: Catching Fire', 2013], ['Nebraska', 2013], ['Philomena', 2013], ['Black Nativity', 2013], ['Frozen', 2013], ['Homefront', 2013], ['Oldboy', 2013], ['Inside Llewyn Davis', 2013], ['Out of the Furnace', 2013], ['American Hustle', 2013], ['The Hobbit: The Desolation of Smaug', 2013], ['A Madea Christmas', 2013], ['Saving Mr. Banks', 2013], ['Anchorman 2: The Legend Continues', 2013], ['Her', 2013], ['Walking with Dinosaurs', 2013], ['47 Ronin', 2013], ['Grudge Match', 2013], ['Lone Survivor', 2013], ['The Secret Life of Walter Mitty', 2013], ['The Wolf of Wall Street', 2013], ['Labor Day', 2013], ['Paranormal Activity: The Marked Ones', 2014], ['The Legend of Hercules', 2014], [\"Devil's Due\", 2014], ['Jack Ryan: Shadow Recruit', 2014], ['The Nut Job', 2014], ['Ride Along', 2014], ['I, Frankenstein', 2014], ['That Awkward Moment', 2014], ['Nurse 3D', 2014], ['The Lego Movie', 2014], ['The Monuments Men', 2014], ['Vampire Academy', 2014], ['RoboCop', 2014], ['About Last Night', 2014], ['Date and Switch', 2014], ['Endless Love', 2014], [\"Winter's Tale\", 2014], ['3 Days to Kill', 2014], ['Barefoot', 2014], ['Pompeii', 2014], ['Non-Stop', 2014], ['Son of God', 2014], ['300: Rise of an Empire', 2014], ['Mr. Peabody & Sherman', 2014], ['The Grand Budapest Hotel', 2014], ['Need for Speed', 2014], ['The Single Moms Club', 2014], ['Veronica Mars', 2014], ['Cheap Thrills', 2013], ['Divergent', 2014], [\"God's Not Dead\", 2014], ['Muppets Most Wanted', 2014], ['50 to 1', 2014], ['Noah', 2014], ['Sabotage', 2014], ['Captain America:', 2014], ['Draft Day', 2014], ['Oculus', 2013], ['Rio 2', 2014], ['Heaven Is for Real', 2014], ['A Haunted House 2', 2014], ['Transcendence', 2014], ['Brick Mansions', 2014], ['The Other Woman', 2014], ['The Amazing Spider-Man 2', 2014], ['Walk of Shame', 2014], [\"Moms' Night Out\", 2014], ['Neighbors', 2014], ['Godzilla', 2014], ['Million Dollar Arm', 2014], ['Blended', 2014], ['X-Men: Days of Future Past', 2014], ['Maleficent', 2014], ['A Million Ways to Die in the West', 2014], ['Edge of Tomorrow', 2014], ['The Fault in Our Stars', 2014], ['Ping Pong Summer', 2014], ['22 Jump Street', 2014], ['How to Train Your Dragon 2', 2014], ['Obvious Child', 2014], ['The Signal', 2014], ['Jersey Boys', 2014], ['Think Like a Man Too', 2014], ['America: Imagine the World Without Her', 2014], ['They Came Together', 2014], ['Transformers: Age of Extinction', 2014], ['Deliver Us from Evil', 2014], ['Earth to Echo', 2014], ['Tammy', 2014], ['Boyhood', 2014], ['Dawn of the Planet of the Apes', 2014], ['Road to Paloma', 2014], ['Snowpiercer', 2013], ['I Origins', 2014], ['Planes: Fire & Rescue', 2014], ['The Purge: Anarchy', 2014], ['Sex Tape', 2014], ['Wish I Was Here', 2014], ['And So It Goes', 2014], ['Happy Christmas', 2014], ['Hercules', 2014], ['Lucy', 2014], ['A Most Wanted Man', 2014], ['Get On Up', 2014], ['Guardians of the Galaxy', 2014], ['The Hundred-Foot Journey', 2014], ['Into the Storm', 2014], ['Step Up: All In', 2014], ['Teenage Mutant Ninja Turtles', 2014], [\"Let's Be Cops\", 2014], ['The Expendables 3', 2014], ['The Giver', 2014], ['Life After Beth', 2014], ['If I Stay', 2014], ['The Prince', 2014], ['Sin City: A Dame to Kill For', 2014], ['When the Game Stands Tall', 2014], ['As Above, So Below', 2014], ['Cake', 2014], ['Atlas Shrugged Part III: Who Is John Galt?', 2014], ['Dolphin Tale 2', 2014], ['No Good Deed', 2014], ['The Guest', 2014], ['A Walk Among the Tombstones', 2014], ['The Maze Runner', 2014], ['The Skeleton Twins', 2014], ['This Is Where I Leave You', 2014], ['Tusk', 2014], ['The Boxtrolls', 2014], ['The Equalizer', 2014], ['Annabelle', 2014], ['Gone Girl', 2014], ['Left Behind', 2014], ['Men, Women & Children', 2014], ['Addicted', 2014], ['Alexander and the Terrible, Horrible, No Good, Very Bad Day', 2014], ['Dracula Untold', 2014], ['The Judge', 2014], ['Whiplash', 2014], ['Birdman', 2014], ['The Book of Life', 2014], ['Camp X-Ray', 2014], ['Dear White People', 2014], ['Fury', 2014], ['Nightcrawler', 2014], ['John Wick', 2014], ['Revenge of the Green Dragons', 2014], ['Ouija', 2014], ['Interstellar', 2014], ['Big Hero 6', 2014], ['Jessabelle', 2014], ['Beyond the Lights', 2014], ['Dumb and Dumber To', 2014], ['Foxcatcher', 2014], ['The Homesman', 2014], ['Saving Christmas', 2014], ['The Hunger Games: Mockingjay – Part 1', 2014], ['Horrible Bosses 2', 2014], ['Penguins of Madagascar', 2014], ['Wild', 2014], ['Exodus: Gods and Kings', 2014], ['Inherent Vice', 2014], ['Top Five', 2014], ['The Hobbit: The Battle of the Five Armies', 2014], ['Annie', 2014], ['Night at the Museum: Secret of the Tomb', 2014], ['American Sniper', 2014], ['Big Eyes', 2014], ['The Gambler', 2014], ['The Interview', 2014], ['Into the Woods', 2014], ['Selma', 2014], ['Unbroken', 2014], ['The Woman in Black: Angel of Death', 2014], ['Taken 3', 2014], ['Blackhat', 2015], ['Spare Parts', 2015], ['The Wedding Ringer', 2015], ['The Boy Next Door', 2015], ['The Humbling', 2014], ['Mortdecai', 2015], ['Song One', 2014], ['Strange Magic', 2015], ['Black or White', 2014], ['The Loft', 2014], ['Project Almanac', 2015], ['Wild Card', 2015], ['Jupiter Ascending', 2015], ['Seventh Son', 2014], ['The SpongeBob Movie: Sponge Out of Water', 2015], ['The Voices', 2014], ['Accidental Love', 2015], ['Fifty Shades of Grey', 2015], ['Kingsman: The Secret Service', 2014], ['The Last Five Years', 2014], ['The DUFF', 2015], ['Hot Tub Time Machine 2', 2015], ['McFarland, USA', 2015], ['Focus', 2015], ['The Lazarus Effect', 2015], ['Maps to the Stars', 2014], ['Chappie', 2015], ['The Second Best Exotic Marigold Hotel', 2015], ['Unfinished Business', 2015], ['Cinderella', 2015], ['The Cobbler', 2014], ['It Follows', 2014], ['Run All Night', 2015], ['Danny Collins', 2015], ['The Divergent Series: Insurgent', 2015], ['Do You Believe?', 2015], ['The Gunman', 2015], ['Tracers', 2015], ['Get Hard', 2015], ['Home', 2015], ['Serena', 2014], [\"While We're Young\", 2014], ['Furious 7', 2015], ['Woman in Gold', 2015], ['Ex Machina', 2014], ['The Longest Ride', 2015], ['Child 44', 2015], ['Monkey Kingdom', 2015], ['Paul Blart: Mall Cop 2', 2015], ['Unfriended', 2014], ['Adult Beginners', 2014], ['Brotherly Love', 2015], ['Little Boy', 2015], ['The Age of Adaline', 2015], ['The Water Diviner', 2014], ['Avengers: Age of Ultron', 2015], ['The D Train', 2015], ['Maggie', 2015], ['Mad Max: Fury Road', 2015], ['Pitch Perfect 2', 2015], [\"I'll See You in My Dreams\", 2015], ['Poltergeist', 2015], ['Tomorrowland', 2015], ['Aloha', 2015], ['Barely Lethal', 2015], ['Spy', 2015], ['Insidious: Chapter 3', 2015], ['Jurassic World', 2015], ['Inside Out', 2015], ['Ted 2', 2015], ['Terminator Genisys', 2015], ['Magic Mike XXL', 2015], ['Minions', 2015], ['The Gallows', 2015], ['Self/less', 2015], ['Tangerine', 2015], ['Strangerland', 2015], ['Ant-Man', 2015], ['Trainwreck', 2015], ['Irrational Man', 2015], ['Mr. Holmes', 2015], ['Pixels', 2015], ['Paper Towns', 2015], ['The Vatican Tapes', 2015], ['Vacation', 2015], ['Mission: Impossible – Rogue Nation', 2015], ['Fantastic Four', 2015], ['The Gift', 2015], ['Ricki and the Flash', 2015], ['Straight Outta Compton', 2015], ['The Man from U.N.C.L.E.', 2015], ['American Ultra', 2015], ['Hitman: Agent 47', 2015], [\"She's Funny That Way\", 2014], ['No Escape', 2015], ['War Room', 2015], ['Before We Go', 2014], ['The Visit', 2015], ['The Perfect Guy', 2015], ['Sleeping with Other People', 2015], ['Black Mass', 2015], ['Captive', 2015], ['Everest', 2015], ['Maze Runner: The Scorch Trials', 2015], ['Sicario', 2015], ['Hotel Transylvania 2', 2015], ['99 Homes', 2014], ['The Intern', 2015], ['Mississippi Grind', 2015], ['The Walk', 2015], ['The Martian', 2015], ['Freeheld', 2015], ['Steve Jobs', 2015], ['Pan', 2015], ['Knock Knock', 2015], ['Beasts of No Nation', 2015], ['Bridge of Spies', 2015], ['Crimson Peak', 2015], ['Goosebumps', 2015], ['Room', 2015], ['Woodlawn', 2015], ['Truth', 2015], ['Rock the Kasbah', 2015], ['Paranormal Activity: The Ghost Dimension', 2015], ['Jem and the Holograms', 2015], ['The Last Witch Hunter', 2015], ['Bone Tomahawk', 2015], ['Scouts Guide to the Zombie Apocalypse', 2015], ['Our Brand Is Crisis', 2015], ['Freaks of Nature', 2015], ['Burnt', 2015], ['Spectre', 2015], ['Spotlight', 2015], ['The Peanuts Movie', 2015], ['The 33', 2015], ['My All American', 2015], ['Love the Coopers', 2015], ['By the Sea', 2015], ['Carol', 2015], ['Legend', 2015], ['The Hunger Games: Mockingjay – Part 2', 2015], ['The Night Before', 2015], ['Creed', 2015], ['The Good Dinosaur', 2015], ['Victor Frankenstein', 2015], ['Krampus', 2015], ['In the Heart of the Sea', 2015], ['The Big Short', 2015], ['Alvin and the Chipmunks: The Road Chip', 2015], ['Sisters', 2015], ['Star Wars: The Force Awakens', 2015], ['Concussion', 2015], [\"Daddy's Home\", 2015], ['Joy', 2015], ['Point Break', 2015], ['The Hateful Eight', 2015], ['The Revenant', 2015], ['Anomalisa', 2015], ['The Forest', 2016], ['Ride Along 2', 2016], ['13 Hours: The Secret Soldiers of Benghazi', 2016], ['Norm of the North', 2016], ['Dirty Grandpa', 2016], ['The 5th Wave', 2016], ['The Boy', 2016], ['Kung Fu Panda 3', 2016], ['The Finest Hours', 2016], ['Fifty Shades of Black', 2016], ['Jane Got a Gun', 2015], ['Hail, Caesar!', 2016], ['Pride and Prejudice and Zombies', 2016], ['The Choice', 2016], ['Deadpool', 2016], ['Zoolander 2', 2016], ['How to Be Single', 2016], ['Risen', 2016], ['The Witch', 2015], ['Gods of Egypt', 2016], ['Triple 9', 2016], ['Eddie the Eagle', 2015], ['Zootopia', 2016], ['London Has Fallen', 2016], ['Whiskey Tango Foxtrot', 2016], ['The Other Side of the Door', 2016], ['Open Season: Scared Silly', 2015], ['10 Cloverfield Lane', 2016], ['Grimsby', 2016], ['The Young Messiah', 2016], ['The Perfect Match', 2016], ['Hello, My Name Is Doris', 2015], ['Miracles from Heaven', 2016], ['The Divergent Series: Allegiant', 2016], ['The Bronze', 2015], ['Midnight Special', 2016], ['Batman v Superman: Dawn of Justice', 2016], ['My Big Fat Greek Wedding 2', 2016], ['I Saw the Light', 2015], ['Everybody Wants Some!!', 2016], [\"God's Not Dead 2\", 2016], ['Meet the Blacks', 2016], ['The Boss', 2016], ['Hardcore Henry', 2015], ['Demolition', 2015], ['The Invitation', 2015], ['The Jungle Book', 2016], ['Barbershop:The Next Cut', 2016], ['Criminal', 2016], ['Green Room', 2015], [\"The Huntsman: Winter's War\", 2016], ['A Hologram for the King', 2016], ['Elvis & Nixon', 2016], ['Keanu', 2016], [\"Mother's Day\", 2016], ['Ratchet & Clank', 2016], ['Captain America: Civil War', 2016], ['Money Monster', 2016], ['The Darkness', 2016], ['The Angry Birds Movie', 2016], ['Neighbors 2: Sorority Rising', 2016], ['The Nice Guys', 2016], ['X-Men: Apocalypse', 2016], ['Alice Through the Looking Glass', 2016], ['Teenage Mutant Ninja Turtles: Out of the Shadows', 2016], ['Me Before You', 2016], ['Popstar: Never Stop Never Stopping', 2016], ['The Conjuring 2', 2016], ['Warcraft', 2016], ['Now You See Me 2', 2016], ['Finding Dory', 2016], ['Central Intelligence', 2016], ['Independence Day: Resurgence', 2016], ['The Shallows', 2016], ['Free State of Jones', 2016], ['The Neon Demon', 2016], ['Swiss Army Man', 2016], ['The Legend of Tarzan', 2016], ['The BFG', 2016], ['The Purge: Election Year', 2016], ['The Secret Life of Pets', 2016], ['Captain Fantastic', 2016], ['Mike and Dave Need Wedding Dates', 2016], ['The Infiltrator', 2016], ['Café Society', 2016], ['Ghostbusters', 2016], ['Star Trek Beyond', 2016], ['Batman: The Killing Joke', 2016], ['Ice Age: Collision Course', 2016], ['Lights Out', 2016], ['Nerve', 2016], ['Jason Bourne', 2016], ['Bad Moms', 2016], ['Suicide Squad', 2016], [\"Pete's Dragon\", 2016], ['Sausage Party', 2016], ['Hell or High Water', 2016], ['Ben-Hur', 2016], ['Kubo and the Two Strings', 2016], ['War Dogs', 2016], ['Mechanic: Resurrection', 2016], [\"Don't Breathe\", 2016], ['Hands of Stone', 2016], ['The Light Between Oceans', 2016], ['Morgan', 2016], ['Sully', 2016], ['When the Bough Breaks', 2016], ['The Disappointments Room', 2016], [\"Bridget Jones's Baby\", 2016], ['Snowden', 2016], ['Blair Witch', 2016], ['Hillsong: Let Hope Rise', 2016], ['The Magnificent Seven', 2016], ['Storks', 2016], [\"Miss Peregrine's Home for Peculiar Children\", 2016], ['Deepwater Horizon', 2016], ['Queen of Katwe', 2016], ['Masterminds', 2016], ['The Girl on the Train', 2016], ['The Birth of a Nation', 2016], ['Middle School: The Worst Years of My Life', 2016], ['The Accountant', 2016], ['Kevin Hart: What Now?', 2016], ['Max Steel', 2016], ['Jack Reacher: Never Go Back', 2016], ['Keeping Up with the Joneses', 2016], ['Ouija: Origin of Evil', 2016], ['Boo! A Madea Halloween', 2016], [\"I'm Not Ashamed\", 2016], ['American Pastoral', 2016], ['Inferno', 2016], ['Doctor Strange', 2016], ['Trolls', 2016], ['Hacksaw Ridge', 2016], ['Loving', 2016], [\"Billy Lynn's Long Halftime Walk\", 2016], ['Fantastic Beasts and Where to Find Them', 2016], ['The Edge of Seventeen', 2016], ['Bleed for This', 2016], ['Manchester by the Sea', 2016], ['Moana', 2016], ['Bad Santa 2', 2016], [\"Rules Don't Apply\", 2016], ['Incarnate', 2016], ['La La Land', 2016], ['Office Christmas Party', 2016], ['Collateral Beauty', 2016], ['Fences', 2016], ['Rogue One: A Star Wars Story', 2016], ['The Founder', 2016], [\"Assassin's Creed\", 2016], ['Passengers', 2016], ['Sing', 2016], ['Patriots Day', 2016], ['A Monster Calls', 2016], ['Silence', 2016], ['Why Him?', 2016], ['Hidden Figures', 2016], ['Live by Night', 2016], ['Paterson', 2016], ['Underworld: Blood Wars', 2016], ['Monster Trucks', 2016], ['The Bye Bye Man', 2017], ['Sleepless', 2017], ['Split', 2016], ['XXX: Return of Xander Cage', 2017], ['The Resurrection of Gavin Stone', 2017], [\"A Dog's Purpose\", 2017], ['Resident Evil: The Final Chapter', 2016], ['Rings', 2017], ['The Space Between Us', 2017], ['I Am Not Your Negro', 2016], ['Growing Up Smith', 2015], ['The Lego Batman Movie', 2017], ['Fifty Shades Darker', 2017], ['John Wick: Chapter 2', 2017], ['The Great Wall', 2016], ['A Cure for Wellness', 2016], ['Fist Fight', 2017], ['XX', 2017], ['Get Out', 2017], ['Rock Dog', 2016], ['Collide', 2016], ['Logan', 2017], ['The Shack', 2017], ['Before I Fall', 2017], ['Table 19', 2017], ['Kong: Skull Island', 2017], ['Beauty and the Beast', 2017], ['The Belko Experiment', 2016], ['Power Rangers', 2017], ['Life', 2017], ['CHiPs', 2017], ['Wilson', 2017], ['Ghost in the Shell', 2017], ['The Boss Baby', 2017], [\"The Zookeeper's Wife\", 2017], ['The Case for Christ', 2017], ['Smurfs: The Lost Village', 2017], ['Going in Style', 2017], ['Colossal', 2016], ['Gifted', 2017], ['Aftermath', 2017], ['The Fate of the Furious', 2017], ['Spark', 2016], ['The Lost City of Z', 2016], ['Born in China', 2016], ['Unforgettable', 2017], ['The Promise', 2016], ['The Circle', 2017], ['How to Be a Latin Lover', 2017], ['Sleight', 2016], ['Guardians of the Galaxy Vol. 2', 2017], ['King Arthur: Legend of the Sword', 2017], ['Snatched', 2017], ['Lowriders', 2016], ['The Wall', 2017], ['Paris Can Wait', 2016], ['Alien: Covenant', 2017], ['Diary of a Wimpy Kid: The Long Haul', 2017], ['Everything, Everything', 2017], ['Baywatch', 2017], ['Pirates of the Caribbean: Dead Men Tell No Tales', 2017], ['Wonder Woman', 2017], ['Captain Underpants: The First Epic Movie', 2017], ['Dean', 2016], ['The Mummy', 2017], ['It Comes at Night', 2017], ['Cars 3', 2017], ['Rough Night', 2017], ['All Eyez on Me', 2017], ['47 Meters Down', 2017], ['The Book of Henry', 2017], ['Transformers: The Last Knight', 2017], ['The Beguiled', 2017], ['The Big Sick', 2017], ['The Bad Batch', 2016], ['Baby Driver', 2017], ['Okja', 2017], ['Despicable Me 3', 2017], ['The House', 2017], ['Inconceivable', 2017], ['A Ghost Story', 2017], ['Spider-Man: Homecoming', 2017], ['War for the Planet of the Apes', 2017], ['Wish Upon', 2017], ['Dunkirk', 2017], ['Girls Trip', 2017], ['First Kill', 2017], ['Atomic Blonde', 2017], ['The Emoji Movie', 2017], ['An Inconvenient Sequel: Truth to Power', 2017], ['Detroit', 2017], ['The Dark Tower', 2017], ['Kidnap', 2017], ['Wind River', 2017], ['Annabelle: Creation', 2017], ['The Nut Job 2: Nutty by Nature', 2017], ['Good Time', 2017], [\"The Hitman's Bodyguard\", 2017], ['Logan Lucky', 2017], ['Patti Cake$', 2017], ['All Saints', 2017], [\"Film Stars Don't Die in Liverpool\", 2017], ['Tulip Fever', 2017], ['It', 2017], ['Home Again', 2017], ['Fallen', 2016], ['American Assassin', 2017], ['Mother!', 2017], ['Kingsman: The Golden Circle', 2017], ['The Lego Ninjago Movie', 2017], ['Stronger', 2017], ['Battle of the Sexes', 2017], ['Woodshock', 2017], ['Jeepers Creepers 3', 2017], ['American Made', 2017], ['Flatliners', 2017], ['Blade Runner 2049', 2017], ['The Mountain Between Us', 2017], ['My Little Pony: The Movie', 2017], ['The Florida Project', 2017], ['Brawl in Cell Block 99', 2017], ['Happy Death Day', 2017], ['Marshall', 2017], ['Breathe', 2017], ['Geostorm', 2017], ['Only the Brave', 2017], ['The Snowman', 2017], ['Boo 2! A Madea Halloween', 2017], ['Same Kind of Different as Me', 2017], ['Wonderstruck', 2017], ['Thank You for Your Service', 2017], ['Suburbicon', 2017], ['Jigsaw', 2017], ['All I See Is You', 2016], ['Thor: Ragnarok', 2017], ['A Bad Moms Christmas', 2017], ['Lady Bird', 2017], ['Murder on the Orient Express', 2017], [\"Daddy's Home 2\", 2017], ['LBJ', 2016], ['Three Billboards Outside Ebbing, Missouri', 2017], ['Mayhem', 2017], ['Justice League', 2017], ['The Star', 2017], ['Wonder', 2017], ['Roman J. Israel, Esq.', 2017], ['Coco', 2017], ['Call Me by Your Name', 2017], ['The Disaster Artist', 2017], ['The Shape of Water', 2017], ['Wonder Wheel', 2017], ['I, Tonya', 2017], ['Just Getting Started', 2017], ['Star Wars: The Last Jedi', 2017], ['Ferdinand', 2017], ['Beyond Skyline', 2017], ['Jumanji: Welcome to the Jungle', 2017], ['The Greatest Showman', 2017], ['Pitch Perfect 3', 2017], ['Downsizing', 2017], ['Father Figures', 2017], ['The Post', 2017], ['Hostiles', 2017], ['All the Money in the World', 2017], [\"Molly's Game\", 2017], ['Phantom Thread', 2017], ['Insidious: The Last Key', 2018], ['The Commuter', 2018], ['Proud Mary', 2018], ['Freak Show', 2017], ['12 Strong', 2018], ['Den of Thieves', 2018], ['Forever My Girl', 2018], ['Maze Runner: The Death Cure', 2018], ['Winchester', 2018], ['Peter Rabbit', 2018], ['Fifty Shades Freed', 2018], ['The 15:17 to Paris', 2018], ['Black Panther', 2018], ['Game Night', 2018], ['Annihilation', 2018], ['Every Day', 2018], ['Red Sparrow', 2018], ['Death Wish', 2018], ['A Wrinkle in Time', 2018], ['Thoroughbreds', 2017], ['The Strangers: Prey at Night', 2018], ['The Hurricane Heist', 2018], ['Tomb Raider', 2018], ['Love, Simon', 2018], ['I Can Only Imagine', 2018], ['Flower', 2017], ['Pacific Rim Uprising', 2018], ['Sherlock Gnomes', 2018], ['Unsane', 2018], ['Paul, Apostle of Christ', 2018], ['Midnight Sun', 2018], ['Ready Player One', 2018], ['Acrimony', 2018], ['A Quiet Place', 2018], ['Blockers', 2018], ['Chappaquiddick', 2017], ['Rampage', 2018], ['Truth or Dare', 2018], ['The Rider', 2017], ['Sgt. Stubby: An American Hero', 2018], ['I Feel Pretty', 2018], ['Super Troopers 2', 2018], ['Traffik', 2018], ['The House of Tomorrow', 2017], ['Avengers: Infinity War', 2018], ['Disobedience', 2017], ['Backstabbing for Beginners', 2018], ['Overboard', 2018], ['Life of the Party', 2018], ['Breaking In', 2018], ['Deadpool 2', 2018], ['Book Club', 2018], ['First Reformed', 2017], ['Show Dogs', 2018], ['Solo: A Star Wars Story', 2018], ['Action Point', 2018], ['Adrift', 2018], ['Upgrade', 2018], [\"Ocean's 8\", 2018], [\"Won't You Be My Neighbor?\", 2018], ['Hereditary', 2018], ['Hotel Artemis', 2018], ['Superfly', 2018], ['Incredibles 2', 2018], ['Tag', 2018], ['Gotti', 2018], ['Jurassic World: Fallen Kingdom', 2018], ['The Domestics', 2018], ['Sicario: Day of the Soldado', 2018], ['Uncle Drew', 2018], ['Woman Walks Ahead', 2017], ['The First Purge', 2018], ['Ant-Man and the Wasp', 2018], ['Sorry to Bother You', 2018], ['Hotel Transylvania 3: Summer Vacation', 2018], ['Skyscraper', 2018], ['Eighth Grade', 2018], [\"Don't Worry, He Won't Get Far on Foot\", 2018], ['Shock and Awe', 2017], ['Mamma Mia! Here We Go Again!', 2018], ['The Equalizer 2', 2018], ['Unfriended: Dark Web', 2018], ['Mission: Impossible – Fallout', 2018], ['Teen Titans Go! To the Movies', 2018], ['Christopher Robin', 2018], ['The Darkest Minds', 2018], ['The Spy Who Dumped Me', 2018], ['The Miseducation of Cameron Post', 2018], ['Dog Days', 2018], ['The Meg', 2018], ['BlacKkKlansman', 2018], ['Slender Man', 2018], ['Crazy Rich Asians', 2018], ['Alpha', 2018], ['Mile 22', 2018], ['Billionaire Boys Club', 2018], ['Down a Dark Hall', 2018], ['The Happytime Murders', 2018], ['Searching', 2018], ['A.X.L.', 2018], ['Operation Finale', 2018], ['Kin', 2018], ['Destination Wedding', 2018], ['The Nun', 2018], ['Peppermint', 2018], ['The Predator', 2018], ['White Boy Rick', 2018], ['A Simple Favor', 2018], ['Unbroken: Path to Redemption', 2018], ['The House with a Clock in Its Walls', 2018], ['Life Itself', 2018], ['The Sisters Brothers', 2018], ['Assassination Nation', 2018], ['Little Italy', 2018], ['Fahrenheit 11/9', 2018], ['Smalltoes', 2018], ['Night School', 2018], ['The Old Man & the Gun', 2018], ['Hell Fest', 2018], ['Venom', 2018], ['A Star Is Born', 2018], ['First Man', 2018], ['Bad Times at the El Royale', 2018], ['Goosebumps 2: Haunted Halloween', 2018], ['Beautiful Boy', 2018], [\"Gosnell: The Trial of America's Biggest Serial Killer\", 2018], ['Halloween', 2018], ['The Hate U Give', 2018], ['Can You Ever Forgive Me?', 2018], ['Mid90s', 2018], ['Hunter Killer', 2018], ['Johnny English Strikes Again', 2018], ['Suspiria', 2018], ['Indivisible', 2018], ['Bohemian Rhapsody', 2018], ['The Nutcracker and the Four Realms', 2018], [\"Nobody's Fool\", 2018], ['Boy Erased', 2018], ['A Private War', 2018], ['Bodied', 2017], ['The Front Runner', 2018], ['The Grinch', 2018], [\"The Girl in the Spider's Web\", 2018], ['Overlord', 2018], ['Fantastic Beasts: The Crimes of Grindelwald', 2018], ['Widows', 2018], ['Green Book', 2018], ['Instant Family', 2018], ['Ralph Breaks the Internet', 2018], ['Creed II', 2018], ['Robin Hood', 2018], ['Roma', 2018], ['The Favourite', 2018], ['The Possession of Hannah Grace', 2018], ['Mary Queen of Scots', 2018], ['Ben Is Back', 2018], ['Spider-Man: Into the Spider-Verse', 2018], ['Mortal Engines', 2018], ['The Mule', 2018], ['If Beale Street Could Talk', 2018], ['Mary Poppins Returns', 2018], ['Aquaman', 2018], ['Bumblebee', 2018], ['Welcome to Marwen', 2018], ['Second Act', 2018], ['Holmes & Watson', 2018], ['Vice', 2018], ['On the Basis of Sex', 2018], ['Destroyer', 2018], ['Escape Room', 2019], [\"A Dog's Way Home\", 2019], ['The Upside', 2017], ['Replicas', 2018], ['Glass', 2019], ['The Kid Who Would Be King', 2019], ['Serenity', 2019], ['Miss Balasubramaniam', 2019], ['The Lego Movie 2: The Second Part', 2019], ['What Men Want', 2019], ['Cold Pursuit', 2019], ['The Prodigy', 2019], [\"Isn't It Romantic\", 2019], ['Happy Death Day 2U', 2019], ['Alita: Battle Angel', 2019], ['How to Train Your Dragon: The Hidden World', 2019], ['Fighting with My Family', 2019], ['A Madea Family Funeral', 2019], ['Captain Marvel', 2019], ['The Kid', 2019], ['Wonder Park', 2019], ['Nancy Drew and the Hidden Staircase', 2019], ['Captive State', 2019], ['Five Feet Apart', 2019], ['Triple Threat', 2019], ['Us', 2019], ['Hotel Mumbai', 2018], ['Dragged Across Concrete', 2018], ['Dumbo', 2019], ['The Beach Bum', 2019], ['Unplanned', 2019], ['Shazam!', 2019], ['Pet Sematary', 2019], ['The Best of Enemies', 2019], ['Hellboy', 2019], ['Little', 2019], ['Missing Link', 2019], ['After', 2019], ['Breakthrough', 2019], ['The Curse of La Llorona', 2019], ['Under the Silver Lake', 2018], ['Avengers: Endgame', 2019], ['Body at Brighton Rock', 2019], ['Long Shot', 2019], ['The Intruder', 2019], ['UglyDolls', 2019], ['Pokémon Detective Pikachu', 2019], ['The Hustle', 2019], ['Tolkien', 2019], ['Poms', 2019], ['The Professor and the Madman', 2019], ['John Wick: Chapter 3 – Parabellum', 2019], [\"A Dog's Journey\", 2019], ['Brightburn', 2019], ['Booksmart', 2019], ['Godzilla: King of the Monsters', 2019], ['Rocketman', 2019], ['Ma', 2019], ['Dark Phoenix', 2019], ['The Secret Life of Pets 2', 2019], ['Late Night', 2019], ['The Last Black Man in San Francisco', 2019], ['Men in Black: International', 2019], ['Shaft', 2019], ['Toy Story 4', 2019], ['Anna', 2019], [\"Child's Play\", 2019], ['Annabelle Comes Home', 2019], ['Spider-Man: Far From Home', 2019], ['Escape Plan: The Extractors', 2019], ['Midsommar', 2019], ['Stuber', 2019], ['Crawl', 2019], ['The Farewell', 2019], ['The Lion King', 2019], ['Once Upon a Time...in Hollywood', 2019], ['Hobbs & Shaw', 2019], ['Dora and the Lost City of Gold', 2019], ['The Kitchen', 2019], ['The Art of Racing in the Rain', 2019], ['Scary Stories to Tell in the Dark', 2019], ['The Peanut Butter Falcon', 2019], ['The Angry Birds Movie 2', 2019], ['Good Boys', 2019], ['Blinded by the Light', 2019], [\"Where'd You Go, Bernadette\", 2019], ['47 Meters Down: Uncaged', 2019], ['Ready or Not', 2019], ['Angel Has Fallen', 2019], ['Overcomer', 2019], [\"Don't Let Go\", 2019], ['It Chapter Two', 2019], ['The Goldfinch', 2019], ['Hustlers', 2019], ['Monos', 2019], ['Ad Astra', 2019], ['Downton Abbey', 2019], ['Rambo: Last Blood', 2019], ['Abominable', 2019], ['Judy', 2019], ['Joker', 2019], ['Lucy in the Sky', 2019], ['Gemini Man', 2019], ['The Addams Family', 2019], ['Jexi', 2019], ['Polaroid', 2019], ['El Camino: A Breaking Bad Movie', 2019], ['Maleficent: Mistress of Evil', 2019], ['Zombieland: Double Tap', 2019], ['Jojo Rabbit', 2019], ['The Lighthouse', 2019], ['Black and Blue', 2019], ['The Current War', 2017], ['Countdown', 2019], ['Terminator: Dark Fate', 2019], ['Motherless Brooklyn', 2019], ['The Irishman', 2019], ['Harriet', 2019], ['Arctic Dogs', 2019], ['Marriage Story', 2019], ['Doctor Sleep', 2019], ['Last Christmas', 2019], ['Playing with Fire', 2019], ['Midway', 2019], ['Honey Boy', 2019], ['Ford v Ferrari', 2019], [\"Charlie's Angels\", 2019], ['The Good Liar', 2019], ['The Report', 2019], ['Waves', 2019], ['Frozen 2', 2019], ['A Beautiful Day in the Neighborhood', 2019], ['21 Bridges', 2019], ['Knives Out', 2019], ['Queen & Slim', 2019], ['Playmobil: The Movie', 2019], ['The Aeronauts', 2019], ['Jumanji: The Next Level', 2019], ['Richard Jewell', 2019], ['Black Christmas', 2019], ['Bombshell', 2019], ['Uncut Gems', 2019], ['Seberg', 2019], ['A Hidden Life', 2019], ['Star Wars: The Rise of Skywalker', 2019], ['Cats', 2019], ['Spies in Disguise', 2019], ['Little Women', 2019], ['1917', 2019], ['Just Mercy', 2019], ['The Grudge', 2019], ['Underwater', 2020], ['Like a Boss', 2020], ['Bad Boys for Life', 2020], ['Dolittle', 2020], ['The Gentlemen', 2019], ['The Turning', 2020], ['The Last Full Measure', 2019], ['The Rhythm Section', 2020], ['Gretel & Hansel', 2020], ['The Assistant', 2019], ['Birds of Prey (and the Fantabulous Emancipation of One Harley Quinn)', 2020], ['Fantasy Island', 2020], ['The Photograph', 2020], ['The Call of the Wild', 2020], ['Emma.', 2020], ['Brahms: The Boy II', 2020], ['Impractical Jokers: The Movie', 2020], ['The Invisible Man', 2020], ['Wendy', 2020], ['Onward', 2020], ['The Way Back', 2020], ['First Cow', 2019], ['Bloodshot', 2020], ['The Hunt', 2020], ['I Still Believe', 2020], ['Never Rarely Sometimes Always', 2020], ['Trolls World Tour', 2020], ['The Wretched', 2019], ['Capone', 2020], ['Scoob!', 2020], ['The High Note', 2020], ['The King of Staten Island', 2020], ['My Spy', 2020], ['Money Plane', 2020], ['Palm Springs', 2020], ['Animal Crackers', 2017], ['The Rental', 2020], ['The Secret: Dare to Dream', 2020], ['An American Pickle', 2020], ['The Tax Collector', 2020], ['The SpongeBob Movie: Sponge on the Run', 2020], ['Unhinged', 2020], ['Cut Throat City', 2020], ['Words on Bathroom Walls', 2020], ['Bill & Ted Face the Music', 2020], ['The New Mutants', 2020], ['The Personal History of David Copperfield', 2019], ['Centigrade', 2020], ['Tenet', 2020], ['Mulan', 2020], ['The Broken Hearts Gallery', 2020], ['The Secrets We Keep', 2020], ['The Trial of the Chicago 7', 2020], ['The Glorias', 2020], ['The War with Grandpa', 2020], ['A Rainy Day in New York', 2019], ['Love and Monsters', 2020], ['Honest Thief', 2020], ['2 Hearts', 2020], ['After We Collided', 2020], ['The Empty Man', 2020], ['The Craft: Legacy', 2020], ['Come Play', 2020], ['Let Him Go', 2020], ['The Informer', 2019], ['Hillbilly Elegy', 2020], ['Mank', 2020], ['Freaky', 2020], ['Fatman', 2020], ['Run', 2020], ['Sound of Metal', 2019], ['Jiu Jitsu', 2020], ['The Croods: A New Age', 2020], ['All My Life', 2020], ['The Midnight Sky', 2020], ['Songbird', 2020], ['Wild Mountain Thyme', 2020], ['Monster Hunter', 2020], ['Greenland', 2020], ['Skylines', 2020], ['Wonder Woman 1984', 2020], ['Soul', 2020], ['News of the World', 2020], ['Promising Young Woman', 2020], ['Locked Down', 2021], ['The Marksman', 2021], ['Our Friend', 2019], ['The Little Things', 2021], ['Nomadland', 2020], ['Son of the South', 2020], ['Music', 2021], ['Judas and the Black Messiah', 2021], ['Minari', 2020], [\"Willy's Wonderland\", 2021], ['Silk Road', 2021], ['Tom & Jerry', 2021], ['The SpongeBob Movie: Sponge on the Run', 2020], ['Raya and the Last Dragon', 2021], ['Chaos Walking', 2021], ['Boss Level', 2020], ['Long Weekend', 2021], ['Nobody', 2021], ['Godzilla vs. Kong', 2021], ['The Unholy', 2021], ['Shiva Baby', 2020], ['The Girl Who Believes in Miracles', 2021], ['Voyagers', 2021], ['Mortal Kombat', 2021], ['Wrath of Man', 2021], ['Mainstream', 2020], ['Army of the Dead', 2021], ['Spiral: From the Book of Saw', 2021], ['A Quiet Place Part II', 2020], ['Cruella', 2021], ['Spirit Untamed', 2021], ['The Conjuring: The Devil Made Me Do It', 2021], ['Peter Rabbit 2: The Runaway', 2021], ['In the Heights', 2021], ['Wish Dragon', 2021], ['The Misfits', 2021], ['The House Next Door: Meet the Blacks 2', 2021], ['Queen Bees', 2021], [\"Hitman's Wife's Bodyguard\", 2021], ['F9', 2021], ['Werewolves Within', 2021], ['Zola', 2020], ['The Tomorrow War', 2021], ['The Boss Baby: Family Business', 2021], ['The Forever Purge', 2021], ['Black Widow', 2021], ['Gunpowder Milkshake', 2021], ['Space Jam: A New Legacy', 2021], ['Escape Room: Tournament of Champions', 2021], ['Die in a Gunfight', 2021], ['Snake Eyes: G.I. Joe Origins', 2021], ['Old', 2021], ['Jungle Cruise', 2021], ['Stillwater', 2021], ['The Green Knight', 2021], ['Nine Days', 2020], ['The Suicide Squad', 2021], ['Free Guy', 2021], ['Respect', 2021], [\"Don't Breathe 2\", 2021], ['CODA', 2021], ['Reminiscence', 2021], ['Demonic', 2021], ['Candyman', 2021], ['Shang-Chi and the Legend of the Ten Rings', 2021], ['Malignant', 2021], ['Queenpins', 2021], ['Cry Macho', 2021], ['Copshop', 2021], ['Dear Evan Hansen', 2021], ['Venom: Let There Be Carnage', 2021], ['The Many Saints of Newark', 2021], ['The Addams Family 2', 2021], ['No Time to Die', 2021], ['Mass', 2021], ['Halloween Kills', 2021], ['The Last Duel', 2021], ['Dune', 2021], ['The French Dispatch', 2021], ['The Harder They Fall', 2021], ['A Mouthful of Air', 2021], ['Heart of Champions', 2021], ['Eternals', 2021], ['Spencer', 2021], ['The Beta Test', 2021], ['Clifford the Big Red Dog', 2021], ['The Power of the Dog', 2021], ['Ghostbusters: Afterlife', 2021], ['King Richard', 2021], [\"C'mon C'mon\", 2021], ['Encanto', 2021], ['House of Gucci', 2021], ['Resident Evil: Welcome to Raccoon City', 2021], ['Licorice Pizza', 2021], ['West Side Story', 2021], [\"Don't Look Up\", 2021], ['National Champions', 2021], ['Red Rocket', 2021], ['Spider-Man: No Way Home', 2021], ['Nightmare Alley', 2021], ['The Lost Daughter', 2021], ['Sing 2', 2021], ['The Matrix Resurrections', 2021], [\"The King's Man\", 2021], ['A Journal for Jordan', 2021], ['American Underdog', 2021], ['The 355', 2022], ['American Siege', 2022], ['Scream', 2022], ['Hotel Transylvania: Transformania', 2022], ['Redeeming Love', 2022], [\"The King's Daughter\", 2022], ['The Tiger Rising', 2022], ['Jackass Forever', 2022], ['Moonfall', 2022], ['Death on the Nile', 2022], ['Marry Me', 2022], ['Blacklight', 2022], ['Uncharted', 2022], ['Dog', 2022], ['Cyrano', 2021], ['The Batman', 2022], ['After Yang', 2021], ['A Day to Die', 2022], ['Turning Red', 2022], ['The Outfit', 2022], ['X', 2022], ['Alice', 2022], ['The Lost City', 2022], ['Everything Everywhere All at Once', 2022], ['Morbius', 2022], ['Sonic the Hedgehog 2', 2022], ['Ambulance', 2022], ['Father Stu', 2022], ['Fantastic Beasts: The Secrets of Dumbledore', 2022], ['Dual', 2022], ['The Bad Guys', 2022], ['The Northman', 2022], ['The Unbearable Weight of Massive Talent', 2022], ['Doctor Strange in the', 2022], ['Operation Mincemeat', 2021], ['Firestarter', 2022], ['Downton Abbey: A New Era', 2022], [\"Chip 'n Dale: Rescue Rangers\", 2022], ['Top Gun: Maverick', 2022], [\"The Bob's Burgers Movie\", 2022], ['Watcher', 2022], ['Jurassic World Dominion', 2022], ['Lightyear', 2022], ['Elvis', 2022], ['The Black Phone', 2021], ['Minions: The Rise of Gru', 2022], ['Thor: Love and Thunder', 2022], ['The Gray Man', 2022], ['Where the Crawdads Sing', 2022], ['Paws of Fury: The Legend of Hank', 2022], ['Nope', 2022], ['DC League of Super-Pets', 2022], ['Bullet Train', 2022], ['Easter Sunday', 2022], ['Mack & Rita', 2022], ['Fall', 2022], ['Emily the Criminal', 2022], ['Beast', 2022], ['Three Thousand Years of Longing', 2022], ['The Invitation', 2022], ['Barbarian', 2022], ['Clerks III', 2022], ['The Woman King', 2022], ['Pearl', 2022], ['Confess, Fletch', 2022], ['Running the Bases', 2022], [\"Don't Worry Darling\", 2022], ['Smile', 2022], ['Bros', 2022], ['Terrifier 2', 2022], ['Lyle, Lyle, Crocodile', 2022], ['Amsterdam', 2022], ['Tár', 2022], ['Halloween Ends', 2022], ['Till', 2022], ['Black Adam', 2022], ['Ticket to Paradise', 2022], ['The Banshees of Inisherin', 2022], ['Armageddon Time', 2022], ['The Estate', 2022], [\"Guillermo del Toro's Pinocchio\", 2022], ['Black Panther: Wakanda Forever', 2022], ['The Fabelmans', 2022], ['She Said', 2022], ['The Menu', 2022], ['Bones and All', 2022], ['The Inspection', 2022], ['Strange World', 2022], ['Glass Onion: A Knives Out Mystery', 2022], ['Devotion', 2022], ['White Noise', 2022], ['Violent Night', 2022], ['The Whale', 2022], ['Avatar: The Way of Water', 2022], ['Puss in Boots: The Last Wish', 2022], ['Babylon', 2022], ['Whitney Houston: I Wanna Dance with Somebody', 2022], ['A Man Called Otto', 2022]]\n"
     ]
    }
   ],
   "source": [
    "titles_and_dates = dfNew[['Title', 'Release Year']].values.tolist()\n",
    "print(titles_and_dates)\n"
   ]
  }
 ],
 "metadata": {
  "kernelspec": {
   "display_name": "Python 3",
   "language": "python",
   "name": "python3"
  },
  "language_info": {
   "codemirror_mode": {
    "name": "ipython",
    "version": 3
   },
   "file_extension": ".py",
   "mimetype": "text/x-python",
   "name": "python",
   "nbconvert_exporter": "python",
   "pygments_lexer": "ipython3",
   "version": "3.10.7"
  }
 },
 "nbformat": 4,
 "nbformat_minor": 2
}
